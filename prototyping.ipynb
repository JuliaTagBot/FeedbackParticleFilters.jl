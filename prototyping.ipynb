{
 "cells": [
  {
   "cell_type": "code",
   "execution_count": 106,
   "metadata": {},
   "outputs": [],
   "source": [
    "using StatsBase"
   ]
  },
  {
   "cell_type": "markdown",
   "metadata": {},
   "source": [
    "# Particle Ensembles and other Types"
   ]
  },
  {
   "cell_type": "code",
   "execution_count": 107,
   "metadata": {},
   "outputs": [],
   "source": [
    "AbstractHiddenState = Union{Number, AbstractVector{T} where T<:Number}\n",
    "abstract type AbstractFilterRepresentation{T<:AbstractHiddenState} end;\n",
    "\n",
    "abstract type ParticleRepresentation{T<:AbstractHiddenState} <: AbstractFilterRepresentation{T} end\n",
    "\n",
    "abstract type UnweightedParticleRepresentation{T<:AbstractHiddenState} <: ParticleRepresentation{T} end"
   ]
  },
  {
   "cell_type": "code",
   "execution_count": 108,
   "metadata": {},
   "outputs": [],
   "source": [
    "VectorHiddenState = Union{Float64, AbstractVector{T} where T<:Float64};"
   ]
  },
  {
   "cell_type": "code",
   "execution_count": 109,
   "metadata": {},
   "outputs": [
    {
     "data": {
      "text/plain": [
       "true"
      ]
     },
     "execution_count": 109,
     "metadata": {},
     "output_type": "execute_result"
    }
   ],
   "source": [
    "VectorHiddenState <: AbstractHiddenState"
   ]
  },
  {
   "cell_type": "code",
   "execution_count": 110,
   "metadata": {},
   "outputs": [],
   "source": [
    "mutable struct UnweightedParticleEnsemble{T<:AbstractHiddenState} <: UnweightedParticleRepresentation{T}\n",
    "    positions::AbstractVector{T}\n",
    "    size::Int\n",
    "    \n",
    "    UnweightedParticleEnsemble(positions::AbstractVector{T}, size::Int) where T<:AbstractHiddenState = \n",
    "        if length(positions) != size\n",
    "            if length(positions) == 1\n",
    "                new{T}(fill(positions[1], size), size)\n",
    "            else\n",
    "                error(\"ERROR: number of particle positions does not equal ensemble size.\")\n",
    "            end\n",
    "        else\n",
    "            new{T}(positions, size)\n",
    "        end\n",
    "end;"
   ]
  },
  {
   "cell_type": "code",
   "execution_count": 111,
   "metadata": {},
   "outputs": [],
   "source": [
    "mutable struct WeightedParticleEnsemble{T<:AbstractHiddenState} <: ParticleRepresentation{T}\n",
    "    positions::AbstractVector{T}\n",
    "    weights::StatsBase.ProbabilityWeights\n",
    "    size::Int\n",
    "    \n",
    "    WeightedParticleEnsemble(positions::AbstractVector{T}, weights::StatsBase.ProbabilityWeights, size::Int) where T<:AbstractHiddenState = \n",
    "        if !length(positions) == length(weights) == size\n",
    "            if length(positions) == 1\n",
    "                new{T}(fill(positions[1], size), fill(1., size), size)\n",
    "            else\n",
    "                error(\"ERROR: number of particle positions does not equal number of weights or ensemble size.\")\n",
    "            end\n",
    "        else\n",
    "            new{T}(positions, weights, size)\n",
    "        end\n",
    "end;"
   ]
  },
  {
   "cell_type": "code",
   "execution_count": 112,
   "metadata": {},
   "outputs": [],
   "source": [
    "abstract type AbstractGainEquation{T<:AbstractHiddenState} end;\n",
    "struct EmptyGainEquation{T<:AbstractHiddenState} <: AbstractGainEquation{T} end;"
   ]
  },
  {
   "cell_type": "code",
   "execution_count": 113,
   "metadata": {},
   "outputs": [],
   "source": [
    "mutable struct FPFEnsemble{T<:AbstractHiddenState} <: UnweightedParticleRepresentation{T}\n",
    "    positions::AbstractVector{T}\n",
    "    size::Int\n",
    "    eq::AbstractGainEquation{T}\n",
    "    FPFEnsemble(positions::AbstractVector{T}, size::Int) where T<:AbstractHiddenState = \n",
    "        if length(positions) != size\n",
    "            if length(positions) == 1\n",
    "                new{T}(fill(positions[1], size), size, EmptyGainEquation{T}())\n",
    "            else\n",
    "                error(\"ERROR: number of particle positions does not equal ensemble size.\")\n",
    "            end\n",
    "        else\n",
    "            new{T}(positions, size, EmptyGainEquation{T}())\n",
    "        end\n",
    "end;"
   ]
  },
  {
   "cell_type": "code",
   "execution_count": 114,
   "metadata": {},
   "outputs": [],
   "source": [
    "ens = FPFEnsemble(randn(10000), 10000);"
   ]
  },
  {
   "cell_type": "markdown",
   "metadata": {},
   "source": [
    "# Fast mapping of functions"
   ]
  },
  {
   "cell_type": "code",
   "execution_count": 83,
   "metadata": {},
   "outputs": [],
   "source": [
    "function Map(f::T, A::AbstractArray) where T<:Function \n",
    "    map(f, A)\n",
    "end\n",
    "function Map(F::NTuple{N, Function}, x::T) where {N, T<:Number} \n",
    "    [f(x) for f in F]\n",
    "end;\n",
    "function Map(F::AbstractArray{Function}, x::T) where {N, T<:Number} \n",
    "    [f(x) for f in F]\n",
    "end;\n",
    "function Map(F::AbstractArray{U}, x::T) where {N, T<:Number, U<:Function}\n",
    "    [f(x) for f in F]\n",
    "end;\n",
    "function Map(F::NTuple{N, Function}, A::AbstractArray; output_shape=2) where N\n",
    "    if output_shape == 1 \n",
    "        try\n",
    "            collect(Map.(F, Ref(A)))\n",
    "        catch\n",
    "            error(\"ERROR: functions cannot be applied at first level. Call with output_shape=2.\")\n",
    "        end\n",
    "    elseif output_shape == 2\n",
    "        try\n",
    "            [f(A) for f in F]\n",
    "        catch\n",
    "            collect(Map.(Ref(F), A))\n",
    "        end\n",
    "    else\n",
    "        error(\"ERROR: Invalid output_shape parameter. Must be either 1 or 2.\") \n",
    "    end\n",
    "end;\n",
    "function Map(F::AbstractArray{T}, A::AbstractArray; output_shape=2) where {N, T<:Function}\n",
    "    if output_shape == 1 \n",
    "        try\n",
    "            collect(Map.(F, Ref(A)))\n",
    "        catch\n",
    "            error(\"ERROR: functions cannot be applied at first level. Call with output_shape=2.\")\n",
    "        end\n",
    "    elseif output_shape == 2\n",
    "        try\n",
    "            [f(A) for f in F]\n",
    "        catch\n",
    "            collect(Map.(Ref(F), A))\n",
    "        end\n",
    "    else\n",
    "        error(\"ERROR: Invalid output_shape parameter. Must be either 1 or 2.\") \n",
    "    end\n",
    "end;"
   ]
  },
  {
   "cell_type": "code",
   "execution_count": 2,
   "metadata": {},
   "outputs": [],
   "source": [
    "f(x::Float64) = x\n",
    "g(x::Float64) = x^2\n",
    "h(x::Float64) = x^3;"
   ]
  },
  {
   "cell_type": "code",
   "execution_count": 3,
   "metadata": {},
   "outputs": [],
   "source": [
    "function ff(n::Int)\n",
    "    f(x::Float64) = x^n\n",
    "    return f::Function\n",
    "end;\n",
    "F = Array{Function, 1}(undef, 100)\n",
    "for n in 1:length(F)\n",
    "    F[n] = ff(n)\n",
    "end;\n",
    "Ftuple = Tuple(F);"
   ]
  },
  {
   "cell_type": "code",
   "execution_count": 4,
   "metadata": {},
   "outputs": [],
   "source": [
    "vec = randn(10000);"
   ]
  },
  {
   "cell_type": "code",
   "execution_count": 5,
   "metadata": {},
   "outputs": [
    {
     "name": "stdout",
     "output_type": "stream",
     "text": [
      "  0.074441 seconds (173.29 k allocations: 9.727 MiB)\n"
     ]
    }
   ],
   "source": [
    "@time collect(map.(f, Ref(vec)));"
   ]
  },
  {
   "cell_type": "code",
   "execution_count": 73,
   "metadata": {},
   "outputs": [
    {
     "name": "stdout",
     "output_type": "stream",
     "text": [
      "  0.066874 seconds (59.28 k allocations: 10.619 MiB)\n",
      "  0.074483 seconds (59.33 k allocations: 10.622 MiB, 6.12% gc time)\n",
      "  0.071172 seconds (2.04 M allocations: 39.818 MiB, 4.98% gc time)\n",
      "  0.030071 seconds (10.01 k allocations: 8.699 MiB, 8.67% gc time)\n"
     ]
    }
   ],
   "source": [
    "@time [map(fun, vec) for fun in F]\n",
    "@time [Map(fun, vec) for fun in F]\n",
    "@time Map(F, vec);\n",
    "@time Map(Ftuple, vec);"
   ]
  },
  {
   "cell_type": "code",
   "execution_count": 7,
   "metadata": {},
   "outputs": [
    {
     "name": "stdout",
     "output_type": "stream",
     "text": [
      "  0.047928 seconds (8.96 k allocations: 8.122 MiB)\n",
      "  0.029995 seconds (10.02 k allocations: 8.698 MiB)\n"
     ]
    }
   ],
   "source": [
    "@time Map(Ftuple, vec, output_shape=1)\n",
    "@time Map(Ftuple, vec, output_shape=2);"
   ]
  },
  {
   "cell_type": "code",
   "execution_count": 8,
   "metadata": {},
   "outputs": [],
   "source": [
    "ff(x::Array{Float64,1}) = x[1]*x[2]\n",
    "gg(x::Array{Float64,1}) = x[1]+x[2]\n",
    "hh(x::Array{Float64,1}) = x[1]-x[2];"
   ]
  },
  {
   "cell_type": "code",
   "execution_count": 95,
   "metadata": {},
   "outputs": [
    {
     "name": "stdout",
     "output_type": "stream",
     "text": [
      "  0.091537 seconds (193.75 k allocations: 10.463 MiB, 6.60% gc time)\n"
     ]
    }
   ],
   "source": [
    "@time Map((ff,gg,hh), [[randn(2) for i in 1:100] for j in 1:100], output_shape=2);"
   ]
  },
  {
   "cell_type": "code",
   "execution_count": 61,
   "metadata": {},
   "outputs": [
    {
     "data": {
      "text/plain": [
       "2-element Array{Array{Array{Float64,1},1},1}:\n",
       " [[0.596676, -0.708981], [1.00465, -1.27132]] \n",
       " [[0.495679, 0.334232], [-0.551361, -1.21584]]"
      ]
     },
     "execution_count": 61,
     "metadata": {},
     "output_type": "execute_result"
    }
   ],
   "source": [
    "[[randn(2) for i in 1:2] for j in 1:2]"
   ]
  },
  {
   "cell_type": "markdown",
   "metadata": {},
   "source": [
    "## Evaluate functions on particle ensembles"
   ]
  },
  {
   "cell_type": "code",
   "execution_count": 115,
   "metadata": {},
   "outputs": [],
   "source": [
    "function Map(f::U, ensemble::T) where {U<:Function, T<:UnweightedParticleRepresentation{S}} where S<:AbstractHiddenState\n",
    "    if !hasmethod(f, tuple(S))\n",
    "        error(\"ERROR: this function cannot be evaluated for this ensemble of particles.\")\n",
    "    end\n",
    "    Map(f, ensemble.positions)\n",
    "end;"
   ]
  },
  {
   "cell_type": "code",
   "execution_count": 116,
   "metadata": {},
   "outputs": [],
   "source": [
    "function Map(F::NTuple{N, U}, ensemble::T) where {N, U<:Function, T<:UnweightedParticleRepresentation{S}} where S<:AbstractHiddenState\n",
    "    if !hasmethod(f, tuple(S))\n",
    "        error(\"ERROR: this function cannot be evaluated for this ensemble of particles.\")\n",
    "    end\n",
    "    Map(F, ensemble.positions)\n",
    "end;"
   ]
  },
  {
   "cell_type": "code",
   "execution_count": 121,
   "metadata": {},
   "outputs": [
    {
     "name": "stdout",
     "output_type": "stream",
     "text": [
      "  0.079676 seconds (59.38 k allocations: 10.623 MiB, 4.58% gc time)\n",
      "  0.076187 seconds (59.57 k allocations: 10.626 MiB)\n",
      "  0.033524 seconds (10.02 k allocations: 8.700 MiB, 14.57% gc time)\n"
     ]
    }
   ],
   "source": [
    "@time [map(fun, ens.positions) for fun in F]\n",
    "@time [Map(fun, ens) for fun in F]\n",
    "@time Map(Ftuple, ens);"
   ]
  },
  {
   "cell_type": "code",
   "execution_count": 126,
   "metadata": {},
   "outputs": [
    {
     "ename": "MethodError",
     "evalue": "MethodError: no method matching Tuple(::TypeVar, ::TypeVar)\nClosest candidates are:\n  Tuple(::Any) where T<:Tuple at tuple.jl:246",
     "output_type": "error",
     "traceback": [
      "MethodError: no method matching Tuple(::TypeVar, ::TypeVar)\nClosest candidates are:\n  Tuple(::Any) where T<:Tuple at tuple.jl:246",
      "",
      "Stacktrace:",
      " [1] top-level scope at In[126]:1"
     ]
    }
   ],
   "source": [
    "hasmethod(Map, Tuple(U,T) where {U<:Function, T<:UnweightedParticleRepresentation{S}} where S<:AbstractHiddenState)"
   ]
  },
  {
   "cell_type": "markdown",
   "metadata": {},
   "source": [
    "# Fast computation of expectations"
   ]
  },
  {
   "cell_type": "code",
   "execution_count": 58,
   "metadata": {},
   "outputs": [],
   "source": [
    "function Expectation(A::AbstractArray{T}) where T<:VectorHiddenState\n",
    "    StatsBase.mean(A)\n",
    "end;\n",
    "function Expectation(f::U, A::AbstractArray{T}) where {U<:Function, T<:VectorHiddenState}\n",
    "    StatsBase.mean(f, A)\n",
    "end;"
   ]
  },
  {
   "cell_type": "code",
   "execution_count": 60,
   "metadata": {},
   "outputs": [],
   "source": [
    "function Expectation(ensemble::T) where T<:UnweightedParticleRepresentation{S} where S<:VectorHiddenState\n",
    "    Expectation(ensemble.positions)\n",
    "end;"
   ]
  },
  {
   "cell_type": "code",
   "execution_count": 83,
   "metadata": {},
   "outputs": [
    {
     "name": "stdout",
     "output_type": "stream",
     "text": [
      "  0.000018 seconds (5 allocations: 176 bytes)\n",
      "  0.000017 seconds (5 allocations: 176 bytes)\n"
     ]
    }
   ],
   "source": [
    "ens = FPFEnsemble(randn(10000), 10000);\n",
    "@time Expectation(ens.positions);\n",
    "@time Expectation(ens);"
   ]
  },
  {
   "cell_type": "code",
   "execution_count": 17,
   "metadata": {},
   "outputs": [],
   "source": [
    "function StatsBase.mean(f::Function, ensemble::T) where T<:UnweightedParticleRepresentation{S} where S <: AbstractHiddenState\n",
    "    if !hasmethod(f, tuple(S))\n",
    "        error(\"ERROR: this function cannot be evaluated for this ensemble of particles.\")\n",
    "    end\n",
    "    StatsBase.mean(f, ensemble.positions)\n",
    "end"
   ]
  },
  {
   "cell_type": "code",
   "execution_count": 18,
   "metadata": {},
   "outputs": [],
   "source": [
    "ens = FPFEnsemble(randn(10000), 10000);"
   ]
  },
  {
   "cell_type": "code",
   "execution_count": 55,
   "metadata": {},
   "outputs": [
    {
     "data": {
      "text/plain": [
       "10-element Array{Float64,1}:\n",
       "  0.2044916195636541   \n",
       " -0.025351193565437892 \n",
       "  0.004773154179286381 \n",
       "  0.04238315331875718  \n",
       "  0.05628195966075676  \n",
       " -0.11476142893607554  \n",
       " -0.11800978757255086  \n",
       "  0.0021916009795702983\n",
       "  0.032040668177654344 \n",
       " -0.1873175611500785   "
      ]
     },
     "execution_count": 55,
     "metadata": {},
     "output_type": "execute_result"
    }
   ],
   "source": [
    "mean([randn(10) for i in 1:100])"
   ]
  },
  {
   "cell_type": "code",
   "execution_count": 389,
   "metadata": {},
   "outputs": [
    {
     "data": {
      "text/plain": [
       "true"
      ]
     },
     "execution_count": 389,
     "metadata": {},
     "output_type": "execute_result"
    }
   ],
   "source": [
    "isa(ff(1), Function)"
   ]
  },
  {
   "cell_type": "code",
   "execution_count": 527,
   "metadata": {},
   "outputs": [],
   "source": [
    "F = Array{Function, 1}(undef, 100)\n",
    "for n in 1:length(F)\n",
    "    F[n] = ff(n)\n",
    "end;"
   ]
  },
  {
   "cell_type": "code",
   "execution_count": 528,
   "metadata": {},
   "outputs": [
    {
     "data": {
      "text/plain": [
       "Array{Function,1}"
      ]
     },
     "execution_count": 528,
     "metadata": {},
     "output_type": "execute_result"
    }
   ],
   "source": [
    "typeof(F)"
   ]
  },
  {
   "cell_type": "code",
   "execution_count": 529,
   "metadata": {},
   "outputs": [],
   "source": [
    "function StatsBase.mean(F::AbstractArray{Function}, A::Any)\n",
    "    [StatsBase.mean(f, A) for f in F]\n",
    "end\n",
    "function Base.map(F::AbstractArray{Function}, A::AbstractArray)\n",
    "    [Base.map(f, A) for f in F]\n",
    "end\n",
    "function mymap(F::NTuple{N, Function}, A::AbstractArray) where N\n",
    "    #res = [Base.map(f, A) for f in F]\n",
    "    #[[f(a) for f in F] for a in A]\n",
    "    collect(map.(F, Ref(A)))\n",
    "end;"
   ]
  },
  {
   "cell_type": "code",
   "execution_count": 530,
   "metadata": {},
   "outputs": [],
   "source": [
    "vec = randn(10000);"
   ]
  },
  {
   "cell_type": "code",
   "execution_count": 531,
   "metadata": {},
   "outputs": [],
   "source": [
    "Ftuple = Tuple(F);"
   ]
  },
  {
   "cell_type": "code",
   "execution_count": 533,
   "metadata": {},
   "outputs": [
    {
     "name": "stdout",
     "output_type": "stream",
     "text": [
      "  0.047211 seconds (59.04 k allocations: 10.614 MiB)\n",
      "  0.037903 seconds (307 allocations: 7.641 MiB, 21.18% gc time)\n",
      "  0.030579 seconds (306 allocations: 7.642 MiB)\n"
     ]
    }
   ],
   "source": [
    "@time [map(g, vec) for i in 1:100];\n",
    "@time res=map(F, vec);\n",
    "@time res=mymap(Ftuple, vec);"
   ]
  },
  {
   "cell_type": "code",
   "execution_count": 9,
   "metadata": {},
   "outputs": [
    {
     "ename": "ErrorException",
     "evalue": "cannot define function Map; it already has a value",
     "output_type": "error",
     "traceback": [
      "cannot define function Map; it already has a value",
      "",
      "Stacktrace:",
      " [1] top-level scope at In[9]:1"
     ]
    }
   ],
   "source": [
    "function Map(F::NTuple{N, Function}, A::AbstractArray) where N\n",
    "    collect(map.(F, Ref(A)))\n",
    "end;"
   ]
  },
  {
   "cell_type": "code",
   "execution_count": 544,
   "metadata": {},
   "outputs": [
    {
     "ename": "ErrorException",
     "evalue": "cannot define function Map; it already has a value",
     "output_type": "error",
     "traceback": [
      "cannot define function Map; it already has a value",
      "",
      "Stacktrace:",
      " [1] top-level scope at In[544]:1"
     ]
    }
   ],
   "source": [
    "function Map(F::AbstractArray{Function}, A::AbstractArray) where N\n",
    "    #res = [Base.map(f, A) for f in F]\n",
    "    #[[f(a) for f in F] for a in A]\n",
    "    collect(map.(Tuple(F), Ref(A)))\n",
    "end;"
   ]
  },
  {
   "cell_type": "code",
   "execution_count": null,
   "metadata": {},
   "outputs": [],
   "source": [
    "function Update!(filter_state::F, object::M) where {F<:AbstractFilterRepresentation, M<:Union{AbstractHiddenStateModel, AbstractObservation}}\n",
    "    object(filter_state)"
   ]
  },
  {
   "cell_type": "code",
   "execution_count": null,
   "metadata": {},
   "outputs": [],
   "source": [
    "function Update!(ensemble::FPFEnsemble)"
   ]
  },
  {
   "cell_type": "code",
   "execution_count": 543,
   "metadata": {},
   "outputs": [
    {
     "data": {
      "text/html": [
       "10 methods for generic function <b>mean</b>:<ul><li> mean(r::<b>AbstractRange{#s623} where #s623<:Real</b>) in Statistics at <a href=\"file:///Users/julia/buildbot/worker/package_macos64/build/usr/share/julia/stdlib/v1.1/Statistics/src/Statistics.jl\" target=\"_blank\">/Users/julia/buildbot/worker/package_macos64/build/usr/share/julia/stdlib/v1.1/Statistics/src/Statistics.jl:138</a></li> <li> mean<i>{T<:Number, W<:Real}</i>(A::<b>AbstractArray{T,N} where N</b>, w::<b>AbstractWeights{W,T,V} where V<:AbstractArray{T,1} where T<:Real</b>, dims::<b>Int64</b>) in StatsBase at <a href=\"file:///Applications/Julia-1.1.app/Contents/Resources/julia/bin/../share/julia/base/deprecated.jl\" target=\"_blank\">deprecated.jl:55</a></li> <li> mean(F::<b>AbstractArray{Function,N} where N</b>, A) in Main at In[529]:2</li> <li> mean(A::<b>AbstractArray</b>; <i>dims</i>) in Statistics at <a href=\"file:///Users/julia/buildbot/worker/package_macos64/build/usr/share/julia/stdlib/v1.1/Statistics/src/Statistics.jl\" target=\"_blank\">/Users/julia/buildbot/worker/package_macos64/build/usr/share/julia/stdlib/v1.1/Statistics/src/Statistics.jl:132</a></li> <li> mean(A::<b>AbstractArray</b>, w::<b>AbstractWeights</b>; <i>dims</i>) in StatsBase at <a href=\"file:///Users/simone/.julia/packages/StatsBase/rTkaz/src/weights.jl\" target=\"_blank\">/Users/simone/.julia/packages/StatsBase/rTkaz/src/weights.jl:469</a></li> <li> mean<i>{T<:(UnweightedParticleRepresentation{S} where S<:Union{Float64, Array{N,1} where N<:Float64})}</i>(ensemble::<b>T</b>) in Main at In[15]:2</li> <li> mean<i>{S<:Union{Number, AbstractArray{T,1} where T<:Number}, T<:UnweightedParticleRepresentation{S<:Union{Number, AbstractArray{T,1} where T<:Number}}}</i>(f::<b>Function</b>, ensemble::<b>T</b>) in Main at In[17]:2</li> <li> mean(itr) in Statistics at <a href=\"file:///Users/julia/buildbot/worker/package_macos64/build/usr/share/julia/stdlib/v1.1/Statistics/src/Statistics.jl\" target=\"_blank\">/Users/julia/buildbot/worker/package_macos64/build/usr/share/julia/stdlib/v1.1/Statistics/src/Statistics.jl:42</a></li> <li> mean(f, A::<b>AbstractArray</b>) in Statistics at <a href=\"file:///Users/julia/buildbot/worker/package_macos64/build/usr/share/julia/stdlib/v1.1/Statistics/src/Statistics.jl\" target=\"_blank\">/Users/julia/buildbot/worker/package_macos64/build/usr/share/julia/stdlib/v1.1/Statistics/src/Statistics.jl:76</a></li> <li> mean(f, itr) in Statistics at <a href=\"file:///Users/julia/buildbot/worker/package_macos64/build/usr/share/julia/stdlib/v1.1/Statistics/src/Statistics.jl\" target=\"_blank\">/Users/julia/buildbot/worker/package_macos64/build/usr/share/julia/stdlib/v1.1/Statistics/src/Statistics.jl:58</a></li> </ul>"
      ],
      "text/plain": [
       "# 10 methods for generic function \"mean\":\n",
       "[1] mean(r::AbstractRange{#s623} where #s623<:Real) in Statistics at /Users/julia/buildbot/worker/package_macos64/build/usr/share/julia/stdlib/v1.1/Statistics/src/Statistics.jl:138\n",
       "[2] mean(A::AbstractArray{T,N} where N, w::AbstractWeights{W,T,V} where V<:AbstractArray{T,1} where T<:Real, dims::Int64) where {T<:Number, W<:Real} in StatsBase at deprecated.jl:55\n",
       "[3] mean(F::AbstractArray{Function,N} where N, A) in Main at In[529]:2\n",
       "[4] mean(A::AbstractArray; dims) in Statistics at /Users/julia/buildbot/worker/package_macos64/build/usr/share/julia/stdlib/v1.1/Statistics/src/Statistics.jl:132\n",
       "[5] mean(A::AbstractArray, w::AbstractWeights; dims) in StatsBase at /Users/simone/.julia/packages/StatsBase/rTkaz/src/weights.jl:469\n",
       "[6] mean(ensemble::T) where T<:(UnweightedParticleRepresentation{S} where S<:Union{Float64, Array{N,1} where N<:Float64}) in Main at In[15]:2\n",
       "[7] mean(f::Function, ensemble::T) where {S<:Union{Number, AbstractArray{T,1} where T<:Number}, T<:UnweightedParticleRepresentation{S<:Union{Number, AbstractArray{T,1} where T<:Number}}} in Main at In[17]:2\n",
       "[8] mean(itr) in Statistics at /Users/julia/buildbot/worker/package_macos64/build/usr/share/julia/stdlib/v1.1/Statistics/src/Statistics.jl:42\n",
       "[9] mean(f, A::AbstractArray) in Statistics at /Users/julia/buildbot/worker/package_macos64/build/usr/share/julia/stdlib/v1.1/Statistics/src/Statistics.jl:76\n",
       "[10] mean(f, itr) in Statistics at /Users/julia/buildbot/worker/package_macos64/build/usr/share/julia/stdlib/v1.1/Statistics/src/Statistics.jl:58"
      ]
     },
     "execution_count": 543,
     "metadata": {},
     "output_type": "execute_result"
    }
   ],
   "source": [
    "methods(mean)"
   ]
  },
  {
   "cell_type": "code",
   "execution_count": 175,
   "metadata": {},
   "outputs": [
    {
     "data": {
      "text/plain": [
       "_pairwise! (generic function with 1 method)"
      ]
     },
     "execution_count": 175,
     "metadata": {},
     "output_type": "execute_result"
    }
   ],
   "source": [
    "function _pairwise!(r::AbstractMatrix, f::Function,\n",
    "                    a::AbstractVector, b::AbstractVector)\n",
    "    na = length(a)\n",
    "    nb = length(b)\n",
    "    size(r) == (na, nb) || throw(DimensionMismatch(\"Incorrect size of r.\"))\n",
    "    @inbounds @simd for j = 1:nb\n",
    "        @simd for i = 1:na\n",
    "            r[i, j] = f(a[i], b[j])\n",
    "        end\n",
    "    end\n",
    "    r\n",
    "end"
   ]
  },
  {
   "cell_type": "code",
   "execution_count": 115,
   "metadata": {},
   "outputs": [
    {
     "data": {
      "text/plain": [
       "fun (generic function with 1 method)"
      ]
     },
     "execution_count": 115,
     "metadata": {},
     "output_type": "execute_result"
    }
   ],
   "source": [
    "res = zeros(Float64, 2000, 5000)\n",
    "a = randn(2000)\n",
    "b = randn(5000)\n",
    "\n",
    "fun(x::Float64, y::Float64) = x*y"
   ]
  },
  {
   "cell_type": "code",
   "execution_count": 119,
   "metadata": {},
   "outputs": [
    {
     "name": "stdout",
     "output_type": "stream",
     "text": [
      "  0.007388 seconds (4 allocations: 160 bytes)\n"
     ]
    }
   ],
   "source": [
    "@time _pairwise!(res, fun, a, b);"
   ]
  },
  {
   "cell_type": "code",
   "execution_count": 190,
   "metadata": {},
   "outputs": [],
   "source": [
    "applyfun(f::Function, x::Float64) = f(x);\n",
    "applyfun2(x::Float64, f::Function) = f(x);"
   ]
  },
  {
   "cell_type": "code",
   "execution_count": 193,
   "metadata": {},
   "outputs": [
    {
     "name": "stdout",
     "output_type": "stream",
     "text": [
      "  0.003861 seconds (90.00 k allocations: 1.373 MiB)\n"
     ]
    }
   ],
   "source": [
    "res = zeros(Float64, 3, 10000)\n",
    "@time _pairwise!(res, applyfun, F, ens.positions);"
   ]
  },
  {
   "cell_type": "code",
   "execution_count": 178,
   "metadata": {},
   "outputs": [
    {
     "name": "stdout",
     "output_type": "stream",
     "text": [
      "  0.000126 seconds (16 allocations: 234.969 KiB)\n"
     ]
    }
   ],
   "source": [
    "@time map(F, ens.positions);"
   ]
  },
  {
   "cell_type": "code",
   "execution_count": 196,
   "metadata": {},
   "outputs": [
    {
     "name": "stdout",
     "output_type": "stream",
     "text": [
      "  0.003208 seconds (90.00 k allocations: 1.373 MiB)\n"
     ]
    }
   ],
   "source": [
    "res = zeros(Float64, 10000, 3)\n",
    "@time _pairwise!(res, applyfun2, ens.positions, F);"
   ]
  },
  {
   "cell_type": "code",
   "execution_count": 189,
   "metadata": {},
   "outputs": [
    {
     "data": {
      "text/plain": [
       "10000×3 Array{Float64,2}:\n",
       " -0.437412    0.191329    -0.0836898 \n",
       " -0.00981145  9.62645e-5  -9.44494e-7\n",
       " -0.862003    0.743049    -0.640511  \n",
       "  0.0448808   0.00201429   9.04028e-5\n",
       "  1.04089     1.08344      1.12774   \n",
       " -0.761191    0.579412    -0.441044  \n",
       "  0.838916    0.70378      0.590412  \n",
       " -0.213966    0.0457813   -0.00979561\n",
       " -0.259926    0.0675616   -0.017561  \n",
       "  0.170285    0.028997     0.00493776\n",
       " -1.06506     1.13434     -1.20814   \n",
       "  0.142437    0.0202883    0.00288981\n",
       "  0.646614    0.418109     0.270355  \n",
       "  ⋮                                  \n",
       "  0.498481    0.248483     0.123864  \n",
       "  0.662371    0.438735     0.290605  \n",
       " -1.01093     1.02198     -1.03316   \n",
       " -0.566238    0.320626    -0.181551  \n",
       " -0.985352    0.97092     -0.956698  \n",
       " -0.388485    0.15092     -0.0586302 \n",
       "  0.475049    0.225672     0.107205  \n",
       "  0.926799    0.858957     0.79608   \n",
       "  0.776673    0.603222     0.468506  \n",
       "  1.38527     1.91897      2.65829   \n",
       " -0.535231    0.286473    -0.153329  \n",
       "  0.562469    0.316371     0.177949  "
      ]
     },
     "execution_count": 189,
     "metadata": {},
     "output_type": "execute_result"
    }
   ],
   "source": [
    "res"
   ]
  },
  {
   "cell_type": "code",
   "execution_count": null,
   "metadata": {},
   "outputs": [],
   "source": []
  }
 ],
 "metadata": {
  "kernelspec": {
   "display_name": "Julia 1.1.1",
   "language": "julia",
   "name": "julia-1.1"
  },
  "language_info": {
   "file_extension": ".jl",
   "mimetype": "application/julia",
   "name": "julia",
   "version": "1.1.1"
  }
 },
 "nbformat": 4,
 "nbformat_minor": 2
}
