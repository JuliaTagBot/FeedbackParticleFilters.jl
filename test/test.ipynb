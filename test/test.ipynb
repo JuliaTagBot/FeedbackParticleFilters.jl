{
 "cells": [
  {
   "cell_type": "code",
   "execution_count": 1,
   "metadata": {},
   "outputs": [
    {
     "name": "stderr",
     "output_type": "stream",
     "text": [
      "┌ Info: Recompiling stale cache file /home/simone/.julia/compiled/v1.1/FeedbackParticleFilters/KhkEf.ji for FeedbackParticleFilters [f4440bb6-80da-11e9-1db0-85cc1897f664]\n",
      "└ @ Base loading.jl:1184\n"
     ]
    }
   ],
   "source": [
    "using FeedbackParticleFilters\n",
    "using Distributions\n",
    "using PyPlot\n",
    "using Test"
   ]
  },
  {
   "cell_type": "code",
   "execution_count": 64,
   "metadata": {},
   "outputs": [
    {
     "data": {
      "text/plain": [
       "g (generic function with 1 method)"
      ]
     },
     "execution_count": 64,
     "metadata": {},
     "output_type": "execute_result"
    }
   ],
   "source": [
    "f(x::Float64) = [x,x]\n",
    "g(x::Float64) = 1"
   ]
  },
  {
   "cell_type": "code",
   "execution_count": 65,
   "metadata": {},
   "outputs": [
    {
     "data": {
      "text/plain": [
       "ScalarDiffusionStateModel(f, g, 0.0)"
      ]
     },
     "execution_count": 65,
     "metadata": {},
     "output_type": "execute_result"
    }
   ],
   "source": [
    "model = DiffusionStateModel(f, g, 0.)"
   ]
  },
  {
   "cell_type": "code",
   "execution_count": 66,
   "metadata": {},
   "outputs": [
    {
     "data": {
      "text/plain": [
       "FPFEnsemble{Float64}([0.0, 0.0, 0.0], 3)"
      ]
     },
     "execution_count": 66,
     "metadata": {},
     "output_type": "execute_result"
    }
   ],
   "source": [
    "testens = FPFEnsemble(model, 3)"
   ]
  },
  {
   "cell_type": "code",
   "execution_count": 67,
   "metadata": {},
   "outputs": [
    {
     "ename": "MethodError",
     "evalue": "MethodError: no method matching +(::Float64, ::Array{Float64,1})\nClosest candidates are:\n  +(::Any, ::Any, !Matched::Any, !Matched::Any...) at operators.jl:502\n  +(::Float64, !Matched::Float64) at float.jl:395\n  +(!Matched::PyCall.PyObject, ::Any) at /home/simone/.julia/packages/PyCall/ttONZ/src/pyoperators.jl:13\n  ...",
     "output_type": "error",
     "traceback": [
      "MethodError: no method matching +(::Float64, ::Array{Float64,1})\nClosest candidates are:\n  +(::Any, ::Any, !Matched::Any, !Matched::Any...) at operators.jl:502\n  +(::Float64, !Matched::Float64) at float.jl:395\n  +(!Matched::PyCall.PyObject, ::Any) at /home/simone/.julia/packages/PyCall/ttONZ/src/pyoperators.jl:13\n  ...",
      "",
      "Stacktrace:",
      " [1] + at ./operators.jl:502 [inlined]",
      " [2] (::getfield(FeedbackParticleFilters, Symbol(\"#propagate!#1\")){ScalarDiffusionStateModel,Float64})(::Float64) at /home/simone/Documents/uni/postdoc/projects/FeedbackParticleFilters.jl/src/StateModels.jl:73",
      " [3] top-level scope at In[67]:1"
     ]
    }
   ],
   "source": [
    "Propagator(model, 0.01)(0.)"
   ]
  },
  {
   "cell_type": "code",
   "execution_count": 76,
   "metadata": {},
   "outputs": [
    {
     "data": {
      "text/plain": [
       "true"
      ]
     },
     "execution_count": 76,
     "metadata": {},
     "output_type": "execute_result"
    }
   ],
   "source": [
    "hasmethod(f, Tuple{Float64})"
   ]
  },
  {
   "cell_type": "code",
   "execution_count": 73,
   "metadata": {},
   "outputs": [
    {
     "data": {
      "text/plain": [
       "true"
      ]
     },
     "execution_count": 73,
     "metadata": {},
     "output_type": "execute_result"
    }
   ],
   "source": [
    "applicable(f, 1.)"
   ]
  },
  {
   "cell_type": "code",
   "execution_count": 74,
   "metadata": {},
   "outputs": [
    {
     "data": {
      "text/plain": [
       "true"
      ]
     },
     "execution_count": 74,
     "metadata": {},
     "output_type": "execute_result"
    }
   ],
   "source": [
    "Float64 <: Real"
   ]
  },
  {
   "cell_type": "code",
   "execution_count": 78,
   "metadata": {},
   "outputs": [
    {
     "data": {
      "text/plain": [
       "true"
      ]
     },
     "execution_count": 78,
     "metadata": {},
     "output_type": "execute_result"
    }
   ],
   "source": [
    "ScalarDiffusionStateModel <: DiffusionStateModel <: StateModel"
   ]
  },
  {
   "cell_type": "code",
   "execution_count": null,
   "metadata": {},
   "outputs": [],
   "source": []
  }
 ],
 "metadata": {
  "kernelspec": {
   "display_name": "Julia 1.1.1",
   "language": "julia",
   "name": "julia-1.1"
  },
  "language_info": {
   "file_extension": ".jl",
   "mimetype": "application/julia",
   "name": "julia",
   "version": "1.1.1"
  }
 },
 "nbformat": 4,
 "nbformat_minor": 2
}
