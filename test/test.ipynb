{
 "cells": [
  {
   "cell_type": "code",
   "execution_count": 1,
   "metadata": {},
   "outputs": [],
   "source": [
    "using FeedbackParticleFilters\n",
    "using Distributions\n",
    "using PyPlot\n",
    "using Test"
   ]
  },
  {
   "cell_type": "code",
   "execution_count": 11,
   "metadata": {},
   "outputs": [],
   "source": [
    "abstract type AbstractFPFGain end;\n",
    "abstract type AbstractFPFError end;"
   ]
  },
  {
   "cell_type": "code",
   "execution_count": 9,
   "metadata": {},
   "outputs": [
    {
     "ename": "ErrorException",
     "evalue": "invalid redefinition of constant AbstractGain",
     "output_type": "error",
     "traceback": [
      "invalid redefinition of constant AbstractGain",
      "",
      "Stacktrace:",
      " [1] top-level scope at none:0"
     ]
    }
   ],
   "source": [
    "struct AbstractGain{S1 <: Union{Number, AbstractVector}, S2 <: Union{Number, AbstractVector}, T <: Union{Vector{S1}, Vector{Vector{S1}}}} <: AbstractFPFGain\n",
    "    gains::T\n",
    "end"
   ]
  },
  {
   "cell_type": "code",
   "execution_count": 5,
   "metadata": {},
   "outputs": [
    {
     "data": {
      "text/plain": [
       "AbstractGain{Int64,Int64,Array{Int64,1}}([1, 2, 3])"
      ]
     },
     "execution_count": 5,
     "metadata": {},
     "output_type": "execute_result"
    }
   ],
   "source": [
    "AbstractGain{Int, Int, Vector{Int}}([1, 2, 3])"
   ]
  },
  {
   "cell_type": "code",
   "execution_count": 12,
   "metadata": {},
   "outputs": [
    {
     "ename": "ErrorException",
     "evalue": "syntax: too few type parameters specified in \"new{...}\"",
     "output_type": "error",
     "traceback": [
      "syntax: too few type parameters specified in \"new{...}\"",
      ""
     ]
    }
   ],
   "source": [
    "mutable struct NewPoissonEquation{S1, T1<:AbstractVector{1S}, S2, T2<:AbstractVector{S2}} <: PoissonEquation\n",
    "    h::Function\n",
    "    positions::T1\n",
    "    H::T2\n",
    "    mean_H::S2\n",
    "    potential::T2\n",
    "    gain::T1\n",
    "    ScalarPoissonEquation(h, positions, H, mean_H, potential, gain) = \n",
    "        if length(positions) == length(H) == length(potential) == length(gain)\n",
    "            new(h, positions, H, mean_H, potential, gain)\n",
    "        else\n",
    "            error(\"ERROR: length mismatch\")\n",
    "        end#if\n",
    "end"
   ]
  },
  {
   "cell_type": "code",
   "execution_count": 16,
   "metadata": {},
   "outputs": [],
   "source": [
    "function Update!(ensemble::FPFEnsemble, gain::T2, error::T3) where {T2<:AbstractFPFGain, T3<:AbstractFPFError}\n",
    "    ensemble.positions += gain * error\n",
    "end;"
   ]
  },
  {
   "cell_type": "code",
   "execution_count": 15,
   "metadata": {},
   "outputs": [],
   "source": [
    "function Update!(ensemble::T1, state_model::T2) where {T1<:UnweightedParticleEnsemble, T2<:StateModel}\n",
    "    state_model.propagate!(ensemble)\n",
    "end;"
   ]
  },
  {
   "cell_type": "code",
   "execution_count": null,
   "metadata": {},
   "outputs": [],
   "source": [
    "function Update!(ensemble::T1, obs_model::T2, obs) where {T1<:UnweightedParticleEnsemble, T2<:DiffusionObservationModel}\n",
    "    \n",
    "end;"
   ]
  },
  {
   "cell_type": "code",
   "execution_count": 18,
   "metadata": {},
   "outputs": [],
   "source": [
    "abstract type AbstractHiddenState end;"
   ]
  },
  {
   "cell_type": "code",
   "execution_count": 3,
   "metadata": {},
   "outputs": [
    {
     "data": {
      "text/plain": [
       "Union{Number, AbstractArray{T,1} where T<:Number}"
      ]
     },
     "execution_count": 3,
     "metadata": {},
     "output_type": "execute_result"
    }
   ],
   "source": [
    "AbstractHiddenState = Union{Number, AbstractVector{T} where T<:Number}"
   ]
  },
  {
   "cell_type": "code",
   "execution_count": 5,
   "metadata": {},
   "outputs": [
    {
     "data": {
      "text/plain": [
       "false"
      ]
     },
     "execution_count": 5,
     "metadata": {},
     "output_type": "execute_result"
    }
   ],
   "source": [
    "abstract type ManifoldPoint end;"
   ]
  },
  {
   "cell_type": "code",
   "execution_count": null,
   "metadata": {},
   "outputs": [],
   "source": []
  }
 ],
 "metadata": {
  "kernelspec": {
   "display_name": "Julia 1.1.1",
   "language": "julia",
   "name": "julia-1.1"
  },
  "language_info": {
   "file_extension": ".jl",
   "mimetype": "application/julia",
   "name": "julia",
   "version": "1.1.1"
  }
 },
 "nbformat": 4,
 "nbformat_minor": 2
}
