{
 "cells": [
  {
   "cell_type": "code",
   "execution_count": 1,
   "metadata": {},
   "outputs": [
    {
     "name": "stderr",
     "output_type": "stream",
     "text": [
      "┌ Info: Recompiling stale cache file /Users/simone/.julia/compiled/v1.1/FeedbackParticleFilters/KhkEf.ji for FeedbackParticleFilters [f4440bb6-80da-11e9-1db0-85cc1897f664]\n",
      "└ @ Base loading.jl:1184\n"
     ]
    }
   ],
   "source": [
    "using FeedbackParticleFilters\n",
    "using Distributions"
   ]
  },
  {
   "cell_type": "code",
   "execution_count": 2,
   "metadata": {},
   "outputs": [],
   "source": [
    "state_model = ScalarDiffusionStateModel(x->-x, x->sqrt(2.), Normal())\n",
    "obs_model = ScalarDiffusionObservationModel(x->x)\n",
    "\n",
    "filt_prob = ContinuousTimeFilteringProblem(state_model, obs_model);"
   ]
  },
  {
   "cell_type": "code",
   "execution_count": 3,
   "metadata": {},
   "outputs": [
    {
     "data": {
      "text/plain": [
       "FPFEnsemble{Float64}([0.762924, 2.82104, 0.574184, 0.205734, 1.83895, -1.32161, -0.453812, -0.558724, 0.521144, 1.19583  …  -1.25785, 0.470219, 0.313057, 0.950337, 0.135758, -0.308243, -1.11952, -0.0893421, 0.832373, -1.09265], 100)"
      ]
     },
     "execution_count": 3,
     "metadata": {},
     "output_type": "execute_result"
    }
   ],
   "source": [
    "ensemble = FPFEnsemble(state_model, 100)"
   ]
  },
  {
   "cell_type": "code",
   "execution_count": 4,
   "metadata": {},
   "outputs": [],
   "source": [
    "eq = GainEquation(state_model, obs_model, ensemble)\n",
    "method = SemigroupMethod1d(0.1,0.01)\n",
    "Solve!(eq, method);"
   ]
  },
  {
   "cell_type": "code",
   "execution_count": 24,
   "metadata": {},
   "outputs": [],
   "source": [
    "filter = FeedbackParticleFilter(filt_prob, method, 100);\n",
    "simulation = FPFSimulation(filter, 100, 0.01);"
   ]
  },
  {
   "cell_type": "code",
   "execution_count": 36,
   "metadata": {},
   "outputs": [
    {
     "name": "stdout",
     "output_type": "stream",
     "text": [
      "Starting simulation...DONE.\n",
      "  0.049423 seconds (141.12 k allocations: 23.100 MiB, 2.12% gc time)\n"
     ]
    }
   ],
   "source": [
    "@time run!(simulation)"
   ]
  },
  {
   "cell_type": "code",
   "execution_count": null,
   "metadata": {},
   "outputs": [],
   "source": []
  }
 ],
 "metadata": {
  "kernelspec": {
   "display_name": "Julia 1.1.1",
   "language": "julia",
   "name": "julia-1.1"
  },
  "language_info": {
   "file_extension": ".jl",
   "mimetype": "application/julia",
   "name": "julia",
   "version": "1.1.1"
  }
 },
 "nbformat": 4,
 "nbformat_minor": 2
}
