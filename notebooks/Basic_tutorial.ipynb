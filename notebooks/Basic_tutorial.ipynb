{
 "cells": [
  {
   "cell_type": "code",
   "execution_count": 4,
   "metadata": {},
   "outputs": [],
   "source": [
    "using FeedbackParticleFilters\n",
    "using Distributions"
   ]
  },
  {
   "cell_type": "code",
   "execution_count": 5,
   "metadata": {},
   "outputs": [],
   "source": [
    "state_model = ScalarDiffusionStateModel(x->-x, x->sqrt(2.), Normal())\n",
    "obs_model = ScalarDiffusionObservationModel(x->x)\n",
    "\n",
    "filt_prob = ContinuousTimeFilteringProblem(state_model, obs_model);"
   ]
  },
  {
   "cell_type": "code",
   "execution_count": 6,
   "metadata": {},
   "outputs": [
    {
     "data": {
      "text/plain": [
       "FPFEnsemble{Float64}([-0.577378, 0.679578, 0.581928, 0.835997, -0.0701052, -0.323919, -0.61673, -0.993112, 0.179397, 1.76507  …  -1.44009, -0.255531, -0.26438, -0.468575, -0.349079, 0.144107, -0.713109, -0.428793, 1.07176, 0.412682], 100)"
      ]
     },
     "execution_count": 6,
     "metadata": {},
     "output_type": "execute_result"
    }
   ],
   "source": [
    "ensemble = FPFEnsemble(state_model, 100)"
   ]
  },
  {
   "cell_type": "code",
   "execution_count": 7,
   "metadata": {},
   "outputs": [
    {
     "data": {
      "text/plain": [
       "100-element Array{Float64,1}:\n",
       " 0.6616359225679587\n",
       " 0.6695858431835716\n",
       " 0.6952149113367934\n",
       " 0.6569401874659516\n",
       " 0.7635148128096689\n",
       " 0.6809927395816345\n",
       " 0.6744003338870975\n",
       " 1.3135017901535333\n",
       " 0.7994089103795848\n",
       " 1.3957178723387598\n",
       " 0.750619319891217 \n",
       " 0.6730514554123299\n",
       " 1.457053113890312 \n",
       " ⋮                 \n",
       " 0.6801200824347526\n",
       " 0.8545974754139674\n",
       " 2.9413535343845276\n",
       " 0.7023275542168719\n",
       " 0.699412913706935 \n",
       " 0.6531300935189152\n",
       " 0.6740785661564405\n",
       " 0.7997964082377832\n",
       " 0.7360228158956225\n",
       " 0.6574244028821733\n",
       " 0.721869861032402 \n",
       " 0.7520900625374596"
      ]
     },
     "execution_count": 7,
     "metadata": {},
     "output_type": "execute_result"
    }
   ],
   "source": [
    "eq = GainEquation(state_model, obs_model, ensemble)\n",
    "method = SemigroupMethod1d(0.1,0.01)\n",
    "Solve!(eq, method)"
   ]
  },
  {
   "cell_type": "code",
   "execution_count": null,
   "metadata": {},
   "outputs": [],
   "source": []
  }
 ],
 "metadata": {
  "kernelspec": {
   "display_name": "Julia 1.1.0",
   "language": "julia",
   "name": "julia-1.1"
  },
  "language_info": {
   "file_extension": ".jl",
   "mimetype": "application/julia",
   "name": "julia",
   "version": "1.1.0"
  }
 },
 "nbformat": 4,
 "nbformat_minor": 2
}
