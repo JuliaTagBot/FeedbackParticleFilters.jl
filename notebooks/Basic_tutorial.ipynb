{
 "cells": [
  {
   "cell_type": "code",
   "execution_count": 1,
   "metadata": {},
   "outputs": [
    {
     "name": "stderr",
     "output_type": "stream",
     "text": [
      "┌ Info: Recompiling stale cache file /Users/simone/.julia/compiled/v1.1/FeedbackParticleFilters/KhkEf.ji for FeedbackParticleFilters [f4440bb6-80da-11e9-1db0-85cc1897f664]\n",
      "└ @ Base loading.jl:1184\n"
     ]
    }
   ],
   "source": [
    "using FeedbackParticleFilters\n",
    "using Distributions"
   ]
  },
  {
   "cell_type": "code",
   "execution_count": 2,
   "metadata": {},
   "outputs": [],
   "source": [
    "state_model = ScalarDiffusionStateModel(x->-x, x->sqrt(2.), Normal())\n",
    "obs_model = ScalarDiffusionObservationModel(x->x)\n",
    "\n",
    "filt_prob = ContinuousTimeFilteringProblem(state_model, obs_model);"
   ]
  },
  {
   "cell_type": "code",
   "execution_count": 5,
   "metadata": {},
   "outputs": [
    {
     "data": {
      "text/plain": [
       "FPFEnsemble{Float64}([-1.10004, -1.16485, 0.155315, -0.348399, 0.409352, 0.159011, -0.0234463, -0.310772, -1.64083, 1.38946  …  0.0861031, 1.4449, -0.488139, -2.86054, 0.1048, -1.39442, 0.46835, -0.86034, 0.637404, -0.498352], 100)"
      ]
     },
     "execution_count": 5,
     "metadata": {},
     "output_type": "execute_result"
    }
   ],
   "source": [
    "ensemble = FPFEnsemble(state_model, 100)"
   ]
  },
  {
   "cell_type": "code",
   "execution_count": 6,
   "metadata": {},
   "outputs": [
    {
     "data": {
      "text/plain": [
       "100-element Array{Float64,1}:\n",
       " 0.8092151329808572 \n",
       " 0.7981360175118107 \n",
       " 0.638030409022462  \n",
       " 0.8553800707533854 \n",
       " 0.5547543274885863 \n",
       " 0.636715386343866  \n",
       " 0.7081370655430254 \n",
       " 0.839802704779687  \n",
       " 0.7702370062646513 \n",
       " 0.5894321873541247 \n",
       " 0.6987659308902039 \n",
       " 0.8216127274299512 \n",
       " 0.8789375715519806 \n",
       " ⋮                  \n",
       " 0.8257097579451778 \n",
       " 0.4493710720535768 \n",
       " 0.6635724080710701 \n",
       " 0.6512187932328428 \n",
       " 0.8990587365206699 \n",
       " 1.089342726335163  \n",
       " 0.6564892140811475 \n",
       " 0.7769972882421705 \n",
       " 0.5366785353146433 \n",
       " 0.8702527502065355 \n",
       " 0.48855619808648193\n",
       " 0.9011323508826508 "
      ]
     },
     "execution_count": 6,
     "metadata": {},
     "output_type": "execute_result"
    }
   ],
   "source": [
    "eq = GainEquation(state_model, obs_model, ensemble)\n",
    "method = SemigroupMethod1d(0.1,0.01)\n",
    "Solve!(eq, method)"
   ]
  }
 ],
 "metadata": {
  "kernelspec": {
   "display_name": "Julia 1.1.1",
   "language": "julia",
   "name": "julia-1.1"
  },
  "language_info": {
   "file_extension": ".jl",
   "mimetype": "application/julia",
   "name": "julia",
   "version": "1.1.1"
  }
 },
 "nbformat": 4,
 "nbformat_minor": 2
}
