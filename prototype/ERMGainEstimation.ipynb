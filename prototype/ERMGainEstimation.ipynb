{
 "cells": [
  {
   "cell_type": "code",
   "execution_count": 1,
   "metadata": {},
   "outputs": [],
   "source": [
    "# Prototype for gain estimation using empirical risk minimization according to\n",
    "# Radhakrishnan, A., & Meyn, S. (2018). Feedback Particle Filter Design Using a Differential-Loss Reproducing Kernel Hilbert Space. In 2018 Annual American Control Conference (ACC) (pp. 329–336). IEEE. https://doi.org/10.23919/ACC.2018.8431689\n",
    "# for the gain of the feedback particle filter:\n",
    "# Yang, T., Mehta, P. G., & Meyn, S. P. (2013). Feedback Particle Filter. IEEE Transactions on Automatic Control, 58(10), 2465–2480. https://doi.org/10.1109/TAC.2013.2258825"
   ]
  },
  {
   "cell_type": "code",
   "execution_count": 2,
   "metadata": {},
   "outputs": [],
   "source": [
    "# This program approximates the solution grad h of the Poisson equation div(p*grad h)=-\\tilde{c}p"
   ]
  },
  {
   "cell_type": "code",
   "execution_count": 3,
   "metadata": {},
   "outputs": [],
   "source": [
    "import numpy as np\n",
    "import matplotlib.pylab as pl\n",
    "import matplotlib.pyplot as plt\n",
    "from timeit import default_timer as timer\n",
    "from autograd import grad"
   ]
  },
  {
   "cell_type": "code",
   "execution_count": 4,
   "metadata": {},
   "outputs": [],
   "source": [
    "# compute optimal gain at y from samples and beta vector (derivative of Eq. 21)\n",
    "# K = g', where g is the approximation of the solution h of the Poisson equation\n",
    "def Gain_ERM(y,samples,beta):\n",
    "    N=len(samples)\n",
    "    return beta[:N].dot(Ky(samples,y))+beta[N:].dot(Kxy(samples,y))\n",
    "\n",
    "# compute beta vector from samples (Eq. 22)\n",
    "def OptimalBeta(samples,lamb):\n",
    "    N=len(samples)\n",
    "    \n",
    "    # empirical observation function\n",
    "    zeta=c(samples)\n",
    "    zeta=zeta-np.average(zeta)\n",
    "    \n",
    "    # kernel Gram matrices\n",
    "    K0mat=K(samples[:,None],samples)\n",
    "    Kxmat=Kx(samples[:,None],samples)\n",
    "    Kymat=Ky(samples[:,None],samples)\n",
    "    Kxymat=Kxy(samples[:,None],samples)\n",
    "    \n",
    "    # compute M and b\n",
    "    M=1/N*np.dot(\n",
    "            np.concatenate((Kymat,Kxymat),axis=0),\n",
    "            np.concatenate((Kxmat,Kxymat),axis=1)\n",
    "    )+lamb*np.concatenate((\n",
    "            np.concatenate((K0mat,Kxmat),axis=0),\n",
    "            np.concatenate((Kymat,Kxymat),axis=0)\n",
    "    ),axis=1\n",
    "    )\n",
    "    b=1/N*np.concatenate((K0mat,Kxmat),axis=0).dot(zeta)\n",
    "    return np.linalg.solve(M,b) # solve equation M.beta=b\n",
    "\n",
    "# Directly compute the gain at the sample locations\n",
    "# input: sample locations\n",
    "# output: gain function evaluated at the sample locations\n",
    "def Gain_ERM_direct(samples,lambd):\n",
    "    N=len(samples)\n",
    "    \n",
    "    # empirical observation function\n",
    "    zeta=c(samples)\n",
    "    zeta=zeta-np.average(zeta)\n",
    "    \n",
    "    # kernel Gram matrices\n",
    "    K0mat=K(samples[:,None],samples)\n",
    "    Kxmat=Kx(samples[:,None],samples)\n",
    "    Kymat=Ky(samples[:,None],samples)\n",
    "    Kxymat=Kxy(samples[:,None],samples)\n",
    "    \n",
    "    # compute M and b\n",
    "    M=1/N*np.dot(\n",
    "            np.concatenate((Kymat,Kxymat),axis=0),\n",
    "            np.concatenate((Kxmat,Kxymat),axis=1)\n",
    "    )+lamb*np.concatenate((\n",
    "            np.concatenate((K0mat,Kxmat),axis=0),\n",
    "            np.concatenate((Kymat,Kxymat),axis=0)\n",
    "    ),axis=1\n",
    "    )\n",
    "    b=1/N*np.concatenate((K0mat,Kxmat),axis=0).dot(zeta)\n",
    "    beta=np.linalg.solve(M,b) # solve equation M.beta=b\n",
    "    return beta[:N].dot(Kymat)+beta[N:].dot(Kxymat)"
   ]
  },
  {
   "cell_type": "code",
   "execution_count": 5,
   "metadata": {},
   "outputs": [],
   "source": [
    "# \n",
    "#\n",
    "# Main code, settings"
   ]
  },
  {
   "cell_type": "code",
   "execution_count": 6,
   "metadata": {},
   "outputs": [],
   "source": [
    "# Observation function c\n",
    "def c(x):\n",
    "    s=1000.\n",
    "    return 1/2*(np.tanh(s*(x+.5))-np.tanh(s*(x+1.5))+np.tanh(s*(x-.5))-np.tanh(s*(x-1.5)))\n",
    "\n",
    "# Density p\n",
    "def p(x):\n",
    "    return np.average([np.exp(-(x-x0)**2/(2*0.04))/np.sqrt(2*np.pi*0.04) for x0 in range(-2,3,1)])\n",
    "\n",
    "# kernel for RKHS and its derivatives\n",
    "def K(x,y):\n",
    "    return np.exp(-(x-y)**2/(2*eps))\n",
    "\n",
    "def Kx(x,y):\n",
    "    return (y-x)*K(x,y)/eps\n",
    "\n",
    "def Ky(x,y):\n",
    "    return (x-y)*K(x,y)/eps\n",
    "\n",
    "def Kxy(x,y):\n",
    "    return (eps-(x-y)**2)*K(x,y)/(eps**2)\n",
    "\n",
    "eps=.05\n",
    "lamb=10e-3"
   ]
  },
  {
   "cell_type": "raw",
   "metadata": {},
   "source": []
  },
  {
   "cell_type": "code",
   "execution_count": 7,
   "metadata": {},
   "outputs": [],
   "source": [
    "n_samples=100\n",
    "x=np.concatenate([x0+0.2*np.random.randn(n_samples) for x0 in range(-2,3,1)]) # generate particles from p\n",
    "beta=OptimalBeta(x,lamb) # compute optimal beta"
   ]
  },
  {
   "cell_type": "code",
   "execution_count": 8,
   "metadata": {},
   "outputs": [
    {
     "data": {
      "text/plain": [
       "-0.043409482711595615"
      ]
     },
     "execution_count": 8,
     "metadata": {},
     "output_type": "execute_result"
    }
   ],
   "source": [
    "Gain_ERM(x[0],x,beta) # test gain function"
   ]
  },
  {
   "cell_type": "code",
   "execution_count": 14,
   "metadata": {},
   "outputs": [
    {
     "name": "stdout",
     "output_type": "stream",
     "text": [
      "computation time =  52.79547799999307 ms\n"
     ]
    }
   ],
   "source": [
    "start=timer()\n",
    "Gain_ERM_direct(x,lamb) # test direct gain function\n",
    "end=timer()\n",
    "print('computation time = ', 1000*(end-start),'ms')"
   ]
  },
  {
   "cell_type": "code",
   "execution_count": 10,
   "metadata": {},
   "outputs": [
    {
     "name": "stdout",
     "output_type": "stream",
     "text": [
      "c_hat = -2.6253283904801467e-16\n",
      "error =  0.1330202063741361\n",
      "integral of gain =  3.7782956559714616\n"
     ]
    }
   ],
   "source": [
    "# Compute exact gain by numerical integration\n",
    "x_min=-3\n",
    "x_max=3\n",
    "nn=10000\n",
    "delta_x=(x_max-x_min)/nn\n",
    "exactgain=np.zeros((nn,2))\n",
    "integral_l=0.\n",
    "integral_h=0.\n",
    "x_h=x_min \n",
    "for i in range(nn):\n",
    "    x_l=x_h\n",
    "    x_h=x_h+delta_x\n",
    "    integral_l=integral_l+p(x_l)*c(x_l)*(x_h-x_l)\n",
    "    integral_h=integral_h+p(x_h)*c(x_h)*(x_h-x_l)\n",
    "c_hat=integral_l\n",
    "print('c_hat =',c_hat)\n",
    "# compute -1/p(x) \\int_{-\\infty}^x\\tilde h(y)p(y)dy\n",
    "integral_l=0.\n",
    "integral_h=0.\n",
    "error=0.\n",
    "x_h=x_min\n",
    "for i in range(nn):\n",
    "    x_l=x_h\n",
    "    x_h=x_h+delta_x\n",
    "    integral_l=integral_l+p(x_l)*(c(x_l)-c_hat)*(x_h-x_l)\n",
    "    exactgain[i]=np.array([x_l,-integral_l/p(x_l)])\n",
    "    integral_h=integral_h+exactgain[i,1]*(x_h-x_l)\n",
    "    error=error+p(x_l)*(x_h-x_l)*(exactgain[i,1]-Gain_ERM(x_l,x,beta))**2\n",
    "#exactgain[:,1]=exactgain[:,1]-integral_h\n",
    "print('error = ',error)\n",
    "print('integral of gain = ',integral_h)"
   ]
  },
  {
   "cell_type": "code",
   "execution_count": 12,
   "metadata": {},
   "outputs": [
    {
     "data": {
      "text/plain": [
       "<matplotlib.legend.Legend at 0x123006d68>"
      ]
     },
     "execution_count": 12,
     "metadata": {},
     "output_type": "execute_result"
    },
    {
     "data": {
      "text/plain": [
       "<Figure size 432x288 with 0 Axes>"
      ]
     },
     "metadata": {},
     "output_type": "display_data"
    },
    {
     "data": {
      "image/png": "[encoded data removed]",
      "text/plain": [
       "<Figure size 1152x288 with 1 Axes>"
      ]
     },
     "metadata": {
      "needs_background": "light"
     },
     "output_type": "display_data"
    }
   ],
   "source": [
    "# plot\n",
    "xx = np.arange(-3.0, 3.0, 0.01)\n",
    "\n",
    "plt.figure(1)\n",
    "plt.figure(figsize=(16,4))\n",
    "plt.xlim((-3,3))\n",
    "plt.ylim((-2,7))\n",
    "plt.plot(\n",
    "    x, [Gain_ERM(y,x,beta) for y in x], 'bo', \n",
    "    xx, [Gain_ERM(y,x,beta) for y in xx], 'k', \n",
    "    exactgain[:,0], exactgain[:,1],'r',\n",
    "    xx, [5*p(y) for y in xx], 'g',\n",
    "    xx, [c(y) for y in xx], 'y'\n",
    ")\n",
    "plt.legend(['sample ERM','ERM','exact gain','p','c'])"
   ]
  },
  {
   "cell_type": "code",
   "execution_count": null,
   "metadata": {},
   "outputs": [],
   "source": []
  },
  {
   "cell_type": "code",
   "execution_count": null,
   "metadata": {},
   "outputs": [],
   "source": []
  },
  {
   "cell_type": "code",
   "execution_count": null,
   "metadata": {},
   "outputs": [],
   "source": []
  }
 ],
 "metadata": {
  "kernelspec": {
   "display_name": "Python 3",
   "language": "python",
   "name": "python3"
  },
  "language_info": {
   "codemirror_mode": {
    "name": "ipython",
    "version": 3
   },
   "file_extension": ".py",
   "mimetype": "text/x-python",
   "name": "python",
   "nbconvert_exporter": "python",
   "pygments_lexer": "ipython3",
   "version": "3.7.3"
  }
 },
 "nbformat": 4,
 "nbformat_minor": 2
}
