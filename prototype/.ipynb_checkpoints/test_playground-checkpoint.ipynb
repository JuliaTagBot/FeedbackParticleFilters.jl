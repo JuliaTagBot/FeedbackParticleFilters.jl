{
 "cells": [
  {
   "cell_type": "code",
   "execution_count": 59,
   "metadata": {},
   "outputs": [],
   "source": [
    "push!(LOAD_PATH,\"./\")\n",
    "using PFlib # import particle filtering library\n",
    "\n",
    "using Test\n",
    "using StatsBase"
   ]
  },
  {
   "cell_type": "code",
   "execution_count": 56,
   "metadata": {},
   "outputs": [
    {
     "name": "stdout",
     "output_type": "stream",
     "text": [
      "  weighted particle ensemble...DONE\n",
      "\u001b[37m\u001b[1mTest Summary:              | \u001b[22m\u001b[39m\u001b[32m\u001b[1mPass  \u001b[22m\u001b[39m\u001b[36m\u001b[1mTotal\u001b[22m\u001b[39m\n",
      "weighted particle ensemble | \u001b[32m   3  \u001b[39m\u001b[36m    3\u001b[39m\n"
     ]
    },
    {
     "data": {
      "text/plain": [
       "Test.DefaultTestSet(\"weighted particle ensemble\", Any[], 3, false)"
      ]
     },
     "execution_count": 56,
     "metadata": {},
     "output_type": "execute_result"
    }
   ],
   "source": [
    "@testset \"weighted particle ensemble\" begin\n",
    "        print(\"  weighted particle ensemble\")\n",
    "        testens = WeightedParticleEnsemble([-2.422480820086937\n",
    "                                              -0.592332203303167\n",
    "                                              -2.017301296096984\n",
    "                                              -1.5151245392598531\n",
    "                                               0.02565906919199346\n",
    "                                               0.15161614796874012],\n",
    "                                           ProbabilityWeights([0.5584525677704708   \n",
    "                                            0.935086525152526    \n",
    "                                            0.6482776466243567   \n",
    "                                            0.16092470299756667  \n",
    "                                            0.0024994760081029632\n",
    "                                            0.7064569073485585]),6);\n",
    "        print(\".\")\n",
    "        @test typeof(testens.positions) == Array{Float64,1}\n",
    "        print(\".\")\n",
    "        @test typeof(testens.size) == Int\n",
    "        print(\".\")\n",
    "        @test typeof(testens.weights) == ProbabilityWeights{Float64,Float64,Array{Float64,1}}\n",
    "        println(\"DONE\")\n",
    "    end"
   ]
  },
  {
   "cell_type": "code",
   "execution_count": 52,
   "metadata": {},
   "outputs": [],
   "source": [
    "testens = WeightedParticleEnsemble(randn(6),ProbabilityWeights(rand(6)),6);"
   ]
  },
  {
   "cell_type": "code",
   "execution_count": 55,
   "metadata": {},
   "outputs": [
    {
     "data": {
      "text/plain": [
       "ProbabilityWeights{Float64,Float64,Array{Float64,1}}"
      ]
     },
     "execution_count": 55,
     "metadata": {},
     "output_type": "execute_result"
    }
   ],
   "source": [
    "typeof(ProbabilityWeights(rand(6)))"
   ]
  },
  {
   "cell_type": "code",
   "execution_count": null,
   "metadata": {},
   "outputs": [],
   "source": []
  },
  {
   "cell_type": "code",
   "execution_count": null,
   "metadata": {},
   "outputs": [],
   "source": []
  }
 ],
 "metadata": {
  "kernelspec": {
   "display_name": "Julia 1.1.0",
   "language": "julia",
   "name": "julia-1.1"
  },
  "language_info": {
   "file_extension": ".jl",
   "mimetype": "application/julia",
   "name": "julia",
   "version": "1.1.0"
  }
 },
 "nbformat": 4,
 "nbformat_minor": 2
}
