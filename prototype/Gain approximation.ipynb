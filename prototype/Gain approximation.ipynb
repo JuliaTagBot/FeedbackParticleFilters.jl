{
 "cells": [
  {
   "cell_type": "code",
   "execution_count": 1,
   "metadata": {},
   "outputs": [],
   "source": [
    "import numpy as np\n",
    "from scipy.stats import norm\n",
    "import matplotlib.pyplot as plt\n",
    "import scipy.integrate as integrate\n",
    "import matplotlib as mpl\n",
    "\n",
    "mpl.rc('text', usetex = True)\n",
    "font = {'family' : 'normal',\n",
    "        'size'   : 20}\t\n",
    "mpl.rc('font', **font)"
   ]
  },
  {
   "cell_type": "markdown",
   "metadata": {},
   "source": [
    "## Gain function approximations"
   ]
  },
  {
   "cell_type": "markdown",
   "metadata": {},
   "source": [
    "## Example\n",
    "Goal: Reproduce Fig 3 in Taghvaei, A., & Mehta, P. G. (2016). Gain Function Approximation in the Feedback Particle Filter."
   ]
  },
  {
   "cell_type": "code",
   "execution_count": 36,
   "metadata": {},
   "outputs": [],
   "source": [
    "p = lambda x: 1/2 * (norm.pdf(x,-1,0.4) + norm.pdf(x,1,0.4) )\n",
    "h = lambda x: x\n",
    "x_axis = np.linspace(-3,3,1000)\n",
    "\n",
    "# draw iid samples from p(x) (cheating a bit here)\n",
    "N = 100\n",
    "x_PF = np.zeros([N,1])\n",
    "x_PF[0:int(N/2),:] = np.random.normal(-1,0.4,[int(N/2),1])\n",
    "x_PF[int(N/2):len(x_PF)] = np.random.normal(1,0.4,[int(N/2),1])"
   ]
  },
  {
   "cell_type": "code",
   "execution_count": 37,
   "metadata": {},
   "outputs": [],
   "source": [
    "# integrate numerically to get true K (this is quick and dirty and can certainly be optimized!)\n",
    "K_true = np.zeros(len(x_axis))\n",
    "for i in np.arange(0,len(x_axis)):\n",
    "    K_true[i] = - 1/p(x_axis[i]) * integrate.quad(lambda x: h(x)*p(x),-np.inf,x_axis[i])[0]"
   ]
  },
  {
   "cell_type": "markdown",
   "metadata": {},
   "source": [
    "### Semigroup approximation"
   ]
  },
  {
   "cell_type": "code",
   "execution_count": 114,
   "metadata": {},
   "outputs": [],
   "source": [
    "def Gain_semigroup(x_PF,h,epsilon=0.1):\n",
    "    H = h(x_PF)\n",
    "    h_hat = 1/N * np.sum(H)\n",
    "    x_PF_M = np.tile(x_PF, (1, N))\n",
    "    g = np.exp(- (x_PF_M - np.transpose(x_PF_M))**2/(4*epsilon) )\n",
    "    g_sum_i = np.tile(np.sum(g,0), (N, 1)) \n",
    "    k = g * ( np.sqrt(g_sum_i) * np.sqrt(np.transpose( g_sum_i ) ) )**(-1)\n",
    "    T_ij = k / np.transpose(np.tile(np.sum(k,0),(N,1)))\n",
    "    \n",
    "    # solve fixed-point equation\n",
    "    Phi = np.ones([len(x_PF),2])\n",
    "    fluctuation = 1\n",
    "    while fluctuation > 1e-4:\n",
    "        Phi[:,1] = np.dot(T_ij,Phi[:,0])+(epsilon*(H-h_hat))[:,0]\n",
    "        Phi[:,1] = Phi[:,1] - 1/N * np.sum(Phi[:,1])\n",
    "        fluctuation = np.max(np.abs(Phi[:,1]-Phi[:,0]))\n",
    "        Phi[:,0] = Phi[:,1]\n",
    "    Phi = Phi[:,1]\n",
    "    \n",
    "    # compute gain from Phi (this is where the error is... somewhere)\n",
    "    K = np.zeros([N,1])\n",
    "    for i in np.arange(0,N):\n",
    "        # corrected code: the term that is subtracted from x_PF is not constant in i\n",
    "        K[i] = 1/(2*epsilon) * np.sum( T_ij[i,:]*Phi* ( x_PF[:,0] - T_ij[i,:].dot(x_PF[:,0])) )\n",
    "        \n",
    "    return Phi, K"
   ]
  },
  {
   "cell_type": "code",
   "execution_count": 115,
   "metadata": {},
   "outputs": [],
   "source": [
    "# compute K with semigroup approximation\n",
    "Phi, K = Gain_semigroup(x_PF,h)"
   ]
  },
  {
   "cell_type": "markdown",
   "metadata": {},
   "source": [
    "It seems computing K(x) from $\\Phi(x)$ according to Algorithm 1 in T&M 2016 does not work well (bug in code? TBC), so we differentiate $\\Phi(x)$ numerically and see what happens."
   ]
  },
  {
   "cell_type": "code",
   "execution_count": 62,
   "metadata": {},
   "outputs": [],
   "source": [
    "# Compute gain K from Phi by taking derivative directly (only in 1d)\n",
    "#order particles (only poss)\n",
    "arrlinds = x_PF[:,0].argsort()\n",
    "x_PF_sorted = x_PF[arrlinds]\n",
    "Phi_sorted = Phi[arrlinds]\n",
    "K_direct = np.zeros([N,1])\n",
    "for i in np.arange(1,N-1):\n",
    "    K_direct[i] = (Phi_sorted[i+1] - Phi_sorted[i-1]) / (x_PF_sorted[i+1]-x_PF_sorted[i-1])\n",
    "    \n",
    "# take care of edges (give it same value as neighbors, sorry, this is a cheat)\n",
    "K_direct[0] = K_direct[1]\n",
    "K_direct[N-1] = K_direct[N-2]\n"
   ]
  },
  {
   "cell_type": "markdown",
   "metadata": {},
   "source": [
    "### ERM Gain estimation (by Simone)"
   ]
  },
  {
   "cell_type": "code",
   "execution_count": 53,
   "metadata": {},
   "outputs": [],
   "source": [
    "# Directly compute the gain at the sample locations\n",
    "# input: sample locations\n",
    "# output: gain function evaluated at the sample locations\n",
    "def Gain_ERM_direct(samples,h):\n",
    "    samples = samples[:,0]\n",
    "    eps=.05\n",
    "    lamb=10e-3\n",
    "    # kernel for RKHS and its derivatives\n",
    "    K = lambda x, y : np.exp(-(x-y)**2/(2*eps))\n",
    "\n",
    "    Kx = lambda x, y: (y-x)*K(x,y)/eps\n",
    "\n",
    "    Ky = lambda x, y : (x-y)*K(x,y)/eps\n",
    "\n",
    "    Kxy = lambda x, y: (eps-(x-y)**2)*K(x,y)/(eps**2)\n",
    "\n",
    "\n",
    "    \n",
    "    \n",
    "    N=len(samples)\n",
    "    \n",
    "    # empirical observation function\n",
    "    zeta=h(samples)\n",
    "    zeta=zeta-np.average(zeta)\n",
    "    \n",
    "    # kernel Gram matrices\n",
    "    K0mat=K(samples[:,None],samples)\n",
    "    Kxmat=Kx(samples[:,None],samples)\n",
    "    Kymat=Ky(samples[:,None],samples)\n",
    "    Kxymat=Kxy(samples[:,None],samples)\n",
    "    \n",
    "    # compute M and b\n",
    "    M=1/N*np.concatenate((Kymat,Kxymat),axis=0).dot(np.concatenate((Kxmat,Kxymat),axis=1))+lamb*np.concatenate((\n",
    "                np.concatenate((K0mat,Kxmat),axis=0),\n",
    "                np.concatenate((Kymat,Kxymat),axis=0)\n",
    "                 ),axis=1\n",
    "            )\n",
    "    b=1/N*np.concatenate((K0mat,Kxmat),axis=0).dot(zeta)\n",
    "    beta=np.linalg.solve(M,b) # solve equation M.beta=b\n",
    "    return beta[:N].dot(Kymat)+beta[N:].dot(Kxymat)"
   ]
  },
  {
   "cell_type": "code",
   "execution_count": 54,
   "metadata": {},
   "outputs": [],
   "source": [
    "K_ERM = Gain_ERM_direct(x_PF,h)"
   ]
  },
  {
   "cell_type": "markdown",
   "metadata": {},
   "source": [
    "### Plots"
   ]
  },
  {
   "cell_type": "code",
   "execution_count": 116,
   "metadata": {},
   "outputs": [
    {
     "data": {
      "image/png": "[encoded data removed]",
      "text/plain": [
       "<Figure size 720x360 with 2 Axes>"
      ]
     },
     "metadata": {
      "needs_background": "light"
     },
     "output_type": "display_data"
    }
   ],
   "source": [
    "fig, ax = plt.subplots(figsize=(10,5))\n",
    "\n",
    "ax.plot(x_axis,p(x_axis),color='grey')\n",
    "ax.set_ylabel('p(x)')\n",
    "ax.legend([r'p(x)'],loc='upper left',fontsize=14)\n",
    "\n",
    "ax2 = ax.twinx()\n",
    "ax2.plot(x_axis,K_true)\n",
    "ax2.scatter(x_PF,Phi)\n",
    "ax2.scatter(x_PF,K[:,0])\n",
    "ax2.scatter(x_PF_sorted,K_direct)\n",
    "ax2.scatter(x_PF,K_ERM)\n",
    "ax2.set_ylabel(r'$\\Phi(x)$, K(x)')\n",
    "ax2.legend([r'$K_{true}$',r'$\\Phi$(x)',r'$K_{semigroup}$',r'$K_{direct}$',r'$K_{ERM}$'],fontsize=14)\n",
    "plt.show()"
   ]
  },
  {
   "cell_type": "code",
   "execution_count": null,
   "metadata": {},
   "outputs": [],
   "source": []
  }
 ],
 "metadata": {
  "kernelspec": {
   "display_name": "Python 3",
   "language": "python",
   "name": "python3"
  },
  "language_info": {
   "codemirror_mode": {
    "name": "ipython",
    "version": 3
   },
   "file_extension": ".py",
   "mimetype": "text/x-python",
   "name": "python",
   "nbconvert_exporter": "python",
   "pygments_lexer": "ipython3",
   "version": "3.7.3"
  }
 },
 "nbformat": 4,
 "nbformat_minor": 2
}
