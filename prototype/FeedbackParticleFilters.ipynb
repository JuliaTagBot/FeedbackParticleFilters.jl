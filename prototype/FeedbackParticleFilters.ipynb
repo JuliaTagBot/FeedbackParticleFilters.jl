{
 "cells": [
  {
   "cell_type": "code",
   "execution_count": 1,
   "metadata": {},
   "outputs": [
    {
     "name": "stderr",
     "output_type": "stream",
     "text": [
      "┌ Info: Recompiling stale cache file /Users/simone/.julia/compiled/v1.1/FeedbackParticleFilters.ji for FeedbackParticleFilters [top-level]\n",
      "└ @ Base loading.jl:1184\n"
     ]
    }
   ],
   "source": [
    "push!(LOAD_PATH,\"./src\")\n",
    "using FeedbackParticleFilters"
   ]
  },
  {
   "cell_type": "code",
   "execution_count": 7,
   "metadata": {},
   "outputs": [],
   "source": [
    "using StatsBase\n",
    "using LinearAlgebra\n",
    "using Distributed\n",
    "using PyPlot\n",
    "using Test"
   ]
  },
  {
   "cell_type": "code",
   "execution_count": 2,
   "metadata": {},
   "outputs": [],
   "source": [
    "using StatsBase"
   ]
  },
  {
   "cell_type": "code",
   "execution_count": 3,
   "metadata": {},
   "outputs": [
    {
     "data": {
      "text/plain": [
       "mean (generic function with 7 methods)"
      ]
     },
     "execution_count": 3,
     "metadata": {},
     "output_type": "execute_result"
    }
   ],
   "source": [
    "mean"
   ]
  },
  {
   "cell_type": "code",
   "execution_count": 4,
   "metadata": {},
   "outputs": [
    {
     "data": {
      "text/plain": [
       "6-element Array{Float64,1}:\n",
       " 0.0\n",
       " 0.0\n",
       " 0.0\n",
       " 0.0\n",
       " 0.0\n",
       " 0.0"
      ]
     },
     "execution_count": 4,
     "metadata": {},
     "output_type": "execute_result"
    }
   ],
   "source": [
    "testens.gain_data.gain"
   ]
  },
  {
   "cell_type": "code",
   "execution_count": 5,
   "metadata": {},
   "outputs": [
    {
     "data": {
      "text/plain": [
       "6-element Array{Float64,1}:\n",
       " 0.2693220783443806 \n",
       " 1.976582040902698  \n",
       " 0.5635782390559818 \n",
       " 1.8205324118211719 \n",
       " 0.37877152214068527\n",
       " 0.2722780175889505 "
      ]
     },
     "execution_count": 5,
     "metadata": {},
     "output_type": "execute_result"
    }
   ],
   "source": [
    "EstimateGain!(testens, SemigroupEstimator1d(0.1,0.01))"
   ]
  },
  {
   "cell_type": "code",
   "execution_count": 9,
   "metadata": {},
   "outputs": [
    {
     "name": "stdout",
     "output_type": "stream",
     "text": [
      "FPF gain estimation tests:\n",
      "  1d semigroup method..DONE\n",
      "\u001b[37m\u001b[1mTest Summary:       | \u001b[22m\u001b[39m\u001b[32m\u001b[1mPass  \u001b[22m\u001b[39m\u001b[36m\u001b[1mTotal\u001b[22m\u001b[39m\n",
      "FPF gain estimation | \u001b[32m   2  \u001b[39m\u001b[36m    2\u001b[39m\n"
     ]
    }
   ],
   "source": [
    "@testset \"FPF gain estimation\" begin\n",
    "    println(\"FPF gain estimation tests:\")\n",
    "    @testset \"1d semigroup gain estimation\" begin\n",
    "        print(\"  1d semigroup method\")\n",
    "        x_pf=[-2.422480820086937\n",
    "              -0.592332203303167\n",
    "              -2.017301296096984\n",
    "              -1.5151245392598531\n",
    "               0.02565906919199346\n",
    "               0.15161614796874012]\n",
    "        testens=FPFEnsemble(x_pf,6,ScalarObservationData(x_pf,mean(x_pf)),GainDataSemigroup1d(zeros(Float64,6),ones(Float64,6)))\n",
    "        print(\".\")\n",
    "        EstimateGain!(testens, SemigroupEstimator1d(0.1,0.01));\n",
    "        @test maximum(abs.(testens.gain_data.gain -   [0.2693220783443806 \n",
    "                                             1.976582040902698  \n",
    "                                             0.5635782390559818 \n",
    "                                             1.8205324118211719 \n",
    "                                             0.37877152214068527\n",
    "                                             0.2722780175889505])) < 1E-9\n",
    "        print(\".\")\n",
    "        EstimateGain!(testens, SemigroupEstimator1d(0.1,0.01));\n",
    "        @test maximum(abs.(testens.gain_data.gain -   [0.2701824403154385 \n",
    "                                             1.9843317728814558 \n",
    "                                             0.5655095454525805 \n",
    "                                             1.8276468776242472 \n",
    "                                             0.38012021882405683\n",
    "                                             0.27323983784928857])) < 1E-9\n",
    "        println(\"DONE\")\n",
    "    end\n",
    "end;"
   ]
  },
  {
   "cell_type": "code",
   "execution_count": null,
   "metadata": {},
   "outputs": [],
   "source": []
  }
 ],
 "metadata": {
  "kernelspec": {
   "display_name": "Julia 1.1.1",
   "language": "julia",
   "name": "julia-1.1"
  },
  "language_info": {
   "file_extension": ".jl",
   "mimetype": "application/julia",
   "name": "julia",
   "version": "1.1.1"
  }
 },
 "nbformat": 4,
 "nbformat_minor": 2
}
